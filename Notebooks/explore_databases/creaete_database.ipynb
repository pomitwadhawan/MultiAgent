{
 "cells": [
  {
   "cell_type": "code",
   "execution_count": 13,
   "metadata": {},
   "outputs": [
    {
     "name": "stdout",
     "output_type": "stream",
     "text": [
      "Sample Data from DB: [(29872499824296.0, 5642903, 'F', '2016-04-29T18:38:08Z', '2016-04-29T00:00:00Z', 62, 'JARDIM DA PENHA', 0, 1, 0, 0, 0, 0, 'No'), (558997776694438.0, 5642503, 'M', '2016-04-29T16:08:27Z', '2016-04-29T00:00:00Z', 56, 'JARDIM DA PENHA', 0, 0, 0, 0, 0, 0, 'No'), (4262962299951.0, 5642549, 'F', '2016-04-29T16:19:04Z', '2016-04-29T00:00:00Z', 62, 'MATA DA PRAIA', 0, 0, 0, 0, 0, 0, 'No'), (867951213174.0, 5642828, 'F', '2016-04-29T17:29:31Z', '2016-04-29T00:00:00Z', 8, 'PONTAL DE CAMBURI', 0, 0, 0, 0, 0, 0, 'No'), (8841186448183.0, 5642494, 'F', '2016-04-29T16:07:23Z', '2016-04-29T00:00:00Z', 56, 'JARDIM DA PENHA', 0, 1, 1, 0, 0, 0, 'No')]\n",
      "Database created successfully at: c:\\Users\\shana\\Documents\\AgentGraph-Intelligent-Q&A-and-RAG-System\\data\\noshow_db.sqllite\n"
     ]
    }
   ],
   "source": [
    "import pandas as pd\n",
    "import sqlite3\n",
    "import os\n",
    "\n",
    "# Load data from CSV (or change to Excel if needed)\n",
    "df = pd.read_csv(\"mydata.csv\")  # Update filename if needed\n",
    "\n",
    "# Define DB path and ensure directory exists\n",
    "db_path = os.path.abspath(\"../../data/noshow_db.sqllite\")\n",
    "os.makedirs(os.path.dirname(db_path), exist_ok=True)\n",
    "\n",
    "# Connect to SQLite and create table\n",
    "conn = sqlite3.connect(db_path)\n",
    "df.to_sql(\"no_show\", conn, if_exists=\"replace\", index=False)\n",
    "\n",
    "# Verify Data Import\n",
    "cursor = conn.cursor()\n",
    "cursor.execute(\"SELECT * FROM no_show LIMIT 5;\")\n",
    "print(\"Sample Data from DB:\", cursor.fetchall())\n",
    "\n",
    "# Close connection\n",
    "conn.close()\n",
    "print(f\"Database created successfully at: {db_path}\")\n"
   ]
  },
  {
   "cell_type": "code",
   "execution_count": null,
   "metadata": {},
   "outputs": [],
   "source": []
  }
 ],
 "metadata": {
  "kernelspec": {
   "display_name": "Python 3",
   "language": "python",
   "name": "python3"
  },
  "language_info": {
   "codemirror_mode": {
    "name": "ipython",
    "version": 3
   },
   "file_extension": ".py",
   "mimetype": "text/x-python",
   "name": "python",
   "nbconvert_exporter": "python",
   "pygments_lexer": "ipython3",
   "version": "3.12.9"
  }
 },
 "nbformat": 4,
 "nbformat_minor": 2
}
